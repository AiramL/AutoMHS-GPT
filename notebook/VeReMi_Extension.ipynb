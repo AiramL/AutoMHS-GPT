{
 "cells": [
  {
   "cell_type": "code",
   "execution_count": 3,
   "id": "50f590ba",
   "metadata": {},
   "outputs": [
    {
     "name": "stderr",
     "output_type": "stream",
     "text": [
      "2023-12-11 10:19:21.214215: W tensorflow/compiler/tf2tensorrt/utils/py_utils.cc:38] TF-TRT Warning: Could not find TensorRT\n"
     ]
    }
   ],
   "source": [
    "import numpy as np\n",
    "import tensorflow as tf\n",
    "import matplotlib.pyplot as plt\n",
    "import pandas as pd\n",
    "from sklearn.model_selection import train_test_split"
   ]
  },
  {
   "cell_type": "markdown",
   "id": "7eb9279c",
   "metadata": {},
   "source": [
    "# Dataset common operations"
   ]
  },
  {
   "cell_type": "code",
   "execution_count": 4,
   "id": "270ac3f9",
   "metadata": {},
   "outputs": [],
   "source": [
    "import seaborn as sn\n",
    "import matplotlib.pyplot as plt\n",
    "\n",
    "from pickle import dump,load\n",
    "from os import listdir\n",
    "from time import time\n",
    "from scipy.stats import pearsonr\n",
    "\n",
    "def evaluate_execution_time(file_name,function):\n",
    "    if function  == \"list\":\n",
    "        initial_time = time()\n",
    "        get_dataset_itens(file_name)\n",
    "        final_time =  time()\n",
    "    else:\n",
    "        initial_time = time()\n",
    "        load_dataset_to_dataframe(file_name)\n",
    "        final_time =  time() \n",
    "    return final_time - initial_time\n",
    "\n",
    "def load_dataset_to_dataframe(file_name):\n",
    "    header_length = get_header_length(file_name)\n",
    "    dataset = pd.read_csv(file_name,low_memory=False)\n",
    "    return dataset\n",
    "\n",
    "def get_header(file_name):\n",
    "    with open(file_name,\"r\") as dataset:\n",
    "        header = dataset.readline().split(',')\n",
    "    return header\n",
    "\n",
    "def get_header_length(file_name):\n",
    "    return len(get_header(file_name))\n",
    "\n",
    "\n",
    "def get_dataset_itens(file_name):\n",
    "    dataset_identifiers = []\n",
    "    dataset_features = []\n",
    "    dataset_labels = []\n",
    "    with open(file_name,\"r\") as dataset:\n",
    "        header = dataset.readline()\n",
    "        for line in dataset:\n",
    "            line_list = line.split(',')\n",
    "            dataset_identifiers.append(line_list[:8])\n",
    "            dataset_features.append(line_list[8:-1])\n",
    "            dataset_labels.append(line_list[-1])\n",
    "    return [dataset_identifiers,dataset_features,dataset_labels]\n",
    "\n",
    "\n",
    "def load_all_dataset_csvs_to_dataframe(path):\n",
    "    names = []\n",
    "    files = listdir(path)\n",
    "    for name in files:\n",
    "        names.append(path+name) \n",
    "    dataset_identifiers, dataset_features, dataset_labels = load_dataset_to_dataframe(names[0])\n",
    "    for file_name in names[1:]:\n",
    "        new_dataset_identifiers, new_dataset_features, new_dataset_labels = load_dataset_to_dataframe(file_name)\n",
    "        dataset_identifiers = pd.concat([dataset_identifiers,new_dataset_identifiers])\n",
    "        dataset_features = pd.concat([dataset_features,new_dataset_features])\n",
    "        dataset_labels = pd.concat([dataset_labels,new_dataset_labels])\n",
    "    return dataset_identifiers,dataset_features,dataset_labels\n",
    "     \n",
    "\n",
    "def load_all_dataset_csvs_to_list(path):\n",
    "    names = []\n",
    "    files = listdir(path)\n",
    "    dataset = [[],[],[]]\n",
    "    for name in files:\n",
    "        names.append(path+name)\n",
    "    for file_name in names:\n",
    "        data = get_dataset_itens(file_name)\n",
    "        dataset = [dataset[0]+data[0],dataset[1]+data[1],dataset[2]+data[2]] \n",
    "\n",
    "def verify_nan_features(dfDataset):\n",
    "    print('Number of missing features: ', dfDataset.isna().sum().sum(),'\\n\\n')\n",
    "    for column_name in dfDataset.keys():\n",
    "        if dfDataset[column_name].isna().sum():\n",
    "            print('Number of missing features in column %s:' % str(column_name), dfDataset[column_name].isna().sum())\n",
    "\n",
    "def binarize_label_dataframe(labels):\n",
    "    return labels.apply(lambda label: 1 if (label.item() == \"BENIGN\") else -1, axis=1)\n",
    "    \n",
    "def multiclass_label_dataframe(labels):\n",
    "    labels_dictionary = get_dataframe_labels_dictionary(labels)\n",
    "    return labels.apply(lambda label: labels_dictionary[label.item()], axis=1)\n",
    "\n",
    "def get_dataframe_labels_dictionary(dataframe):\n",
    "    unique_labels =  list(dataframe[\" Label\"].unique())\n",
    "    labels_dictionary = {}\n",
    "    for label,name in enumerate(unique_labels):\n",
    "        labels_dictionary[name] = label\n",
    "    return labels_dictionary\n",
    "\n",
    "\n",
    "def get_binary_labels_list(labels):\n",
    "    binary_labels = []\n",
    "    for item in labels:\n",
    "        if item == \"BENIGN\\n\":\n",
    "            binary_labels.append(-1)\n",
    "        else:\n",
    "            binary_labels.append(1)\n",
    "    return binary_labels\n",
    "\n",
    "def get_labels_dictionary(labels):\n",
    "    unique_labels = list(set(labels))\n",
    "    labels_dictionary = {}\n",
    "    for label,name in enumerate(unique_labels):\n",
    "        labels_dictionary[name] = label \n",
    "    return labels_dictionary\n",
    "\n",
    "def get_multiclass_labels(labels):\n",
    "    multiclass_labels = []\n",
    "    labels_dictionary = get_labels_dictionary(labels)\n",
    "    for item in labels:\n",
    "        multiclass_labels.append(labels_dictionary[item])\n",
    "    return multiclass_labels\n",
    "\n",
    "\n",
    "def write_dataset(dataset,file_name):\n",
    "    with open(file_name,\"wb\") as dataset_file:\n",
    "        dump(dataset,dataset_file)\n",
    "\n",
    "def read_dataset(file_name):\n",
    "    with open(file_name,'rb') as dataset_file:\n",
    "        dataset = load(dataset_file)\n",
    "    return dataset\n",
    "\n",
    "def print_column_names(file_name):\n",
    "    with open(file_name,\"r\") as dataset:\n",
    "        names = dataset.readline()\n",
    "    names_list = names.split(',')\n",
    "    for item in names_list:\n",
    "        print(item)\n",
    "\n",
    "\n",
    "def remove_high_correlation_features(corr_matrix,features):\n",
    "    high_correlation_columns = {}\n",
    "    for column_name in corr_matrix.keys():\n",
    "        for index in range(len(corr_matrix[column_name])):\n",
    "            if (corr_matrix[column_name][index] >= 0.8) and (corr_matrix.index[index] != column_name):\n",
    "                if corr_matrix.index[index] in high_correlation_columns.keys():\n",
    "                    high_correlation_columns[corr_matrix.index[index]].append(str(column_name))\n",
    "                else:\n",
    "                    high_correlation_columns[corr_matrix.index[index]] = [str(column_name)]\n",
    "    \n",
    "    # separe the features \n",
    "    features_to_not_delete = []\n",
    "    features_to_delete = []\n",
    "\n",
    "    # sort features according to the number of correlated features\n",
    "    for key in sorted(high_correlation_columns, key=lambda key: len(high_correlation_columns[key]), reverse=True):\n",
    "        if key not in features_to_delete:\n",
    "            features_to_not_delete.append(key)\n",
    "            for item in high_correlation_columns[key]:\n",
    "                if item not in features_to_delete:\n",
    "                    features_to_delete.append(item)\n",
    "    \n",
    "    # delete the features\n",
    "    for name in features_to_delete:\n",
    "        corr_matrix.drop(name, axis='columns', inplace=True)\n",
    "        corr_matrix.drop(name, axis='index', inplace=True)\n",
    "        features.drop(name, axis='columns', inplace=True)\n",
    "\n",
    "\n",
    "\n",
    "def remove_nan_features_corr(data,corr_matrix,num_features=30):\n",
    "    columns_to_delete = []\n",
    "    for column_name in corr_matrix.keys():\n",
    "        if corr_matrix[column_name].isna().sum() == num_features:\n",
    "            columns_to_delete.append(str(column_name))\n",
    "\n",
    "    for name in columns_to_delete:\n",
    "        corr_matrix.drop(name, axis='columns', inplace=True)\n",
    "        corr_matrix.drop(name, axis='index', inplace=True)\n",
    "        data.drop(name, axis='columns', inplace=True)\n",
    "  \n",
    "    return columns_to_delete"
   ]
  },
  {
   "cell_type": "markdown",
   "id": "6adfa05f",
   "metadata": {},
   "source": [
    "# Loading the dataset "
   ]
  },
  {
   "cell_type": "code",
   "execution_count": 5,
   "id": "c8788ef7",
   "metadata": {},
   "outputs": [],
   "source": [
    "df = load_dataset_to_dataframe('../datasets/VeReMi_Extension/mixalldata_clean.csv')"
   ]
  },
  {
   "cell_type": "code",
   "execution_count": 6,
   "id": "52eac850",
   "metadata": {},
   "outputs": [
    {
     "name": "stdout",
     "output_type": "stream",
     "text": [
      "Number of missing features:  0 \n",
      "\n",
      "\n"
     ]
    },
    {
     "data": {
      "text/plain": [
       "<bound method DataFrame.info of          type      sendTime  sender  senderPseudo  messageID  class  \\\n",
       "0           4  72002.302942  130137     101301377  422013806      0   \n",
       "1           4  72003.302942  130137     101301377  422023410      0   \n",
       "2           4  72004.302942  130137     101301377  422032081      0   \n",
       "3           4  72005.302942  130137     101301377  422040712      0   \n",
       "4           4  72006.302942  130137     101301377  422052949      0   \n",
       "...       ...           ...     ...           ...        ...    ...   \n",
       "3194803     4  79376.752610  140895    1706441661  447808029     19   \n",
       "3194804     4  79377.252610  140895    1806441661  447808677     19   \n",
       "3194805     4  79377.752610  140895    1906441661  447809215     19   \n",
       "3194806     4  79378.252610  140895    2006441661  447809698     19   \n",
       "3194807     4  79378.752610  140895    2106441661  447810281     19   \n",
       "\n",
       "                posx        posy  posz    posx_n  ...  aclz    aclx_n  \\\n",
       "0         266.982401   32.336955   0.0  3.480882  ...   0.0  0.000862   \n",
       "1         266.827208   34.624145   0.0  3.546261  ...   0.0  0.000107   \n",
       "2         266.420297   38.836461   0.0  3.544045  ...   0.0  0.000172   \n",
       "3         268.912026   45.414229   0.0  3.340080  ...   0.0  0.000171   \n",
       "4         268.242276   53.729986   0.0  3.328872  ...   0.0  0.000193   \n",
       "...              ...         ...   ...       ...  ...   ...       ...   \n",
       "3194803  1416.808164  866.681779   0.0  3.973333  ...   0.0  0.000393   \n",
       "3194804   941.425000  458.154905   0.0  3.615640  ...   0.0  0.000625   \n",
       "3194805  1033.632133  436.153394   0.0  4.048978  ...   0.0  0.000007   \n",
       "3194806   193.976676  619.862791   0.0  3.731226  ...   0.0  0.000567   \n",
       "3194807  1073.664131  559.094137   0.0  3.852178  ...   0.0  0.001241   \n",
       "\n",
       "           acly_n  aclz_n      hedx      hedy  hedz     hedx_n     hedy_n  \\\n",
       "0        0.000862     0.0 -0.102790  0.994703   0.0  20.038218  17.541001   \n",
       "1        0.001040     0.0 -0.099856  0.995002   0.0  20.441139  14.467283   \n",
       "2        0.001661     0.0 -0.099856  0.995002   0.0  20.850473  11.941528   \n",
       "3        0.001654     0.0 -0.100172  0.994970   0.0  21.323229   9.633965   \n",
       "4        0.001852     0.0 -0.097105  0.995274   0.0  21.788034   7.824555   \n",
       "...           ...     ...       ...       ...   ...        ...        ...   \n",
       "3194803  0.011404     0.0 -0.293246  0.080890   0.0  47.656205  13.289398   \n",
       "3194804  0.000625     0.0  0.950027  0.312168   0.0  13.893356  14.793262   \n",
       "3194805  0.000010     0.0 -0.169669 -0.535026   0.0  47.404274  13.283643   \n",
       "3194806  0.000093     0.0  0.135115 -0.990830   0.0   0.844026   3.533446   \n",
       "3194807  0.005355     0.0  0.077692 -0.618450   0.0  46.823823   9.302495   \n",
       "\n",
       "         hedz_n  \n",
       "0           0.0  \n",
       "1           0.0  \n",
       "2           0.0  \n",
       "3           0.0  \n",
       "4           0.0  \n",
       "...         ...  \n",
       "3194803     0.0  \n",
       "3194804     0.0  \n",
       "3194805     0.0  \n",
       "3194806     0.0  \n",
       "3194807     0.0  \n",
       "\n",
       "[3194808 rows x 30 columns]>"
      ]
     },
     "execution_count": 6,
     "metadata": {},
     "output_type": "execute_result"
    }
   ],
   "source": [
    "verify_nan_features(df)\n",
    "df.info"
   ]
  },
  {
   "cell_type": "code",
   "execution_count": 7,
   "id": "05aa635b",
   "metadata": {},
   "outputs": [],
   "source": [
    "# Calculating the correlation matrix"
   ]
  },
  {
   "cell_type": "code",
   "execution_count": 8,
   "id": "bf1ffe33",
   "metadata": {},
   "outputs": [],
   "source": [
    "corr_matrix = df.corr()"
   ]
  },
  {
   "cell_type": "code",
   "execution_count": 9,
   "id": "b1b74a9f",
   "metadata": {},
   "outputs": [],
   "source": [
    "# Plot matrix figure"
   ]
  },
  {
   "cell_type": "code",
   "execution_count": 10,
   "id": "3a93ac6f",
   "metadata": {},
   "outputs": [
    {
     "data": {
      "image/png": "[encoded data removed]",
      "text/plain": [
       "<Figure size 1900x1500 with 2 Axes>"
      ]
     },
     "metadata": {},
     "output_type": "display_data"
    }
   ],
   "source": [
    "f = plt.figure(figsize=(19, 15))\n",
    "plt.matshow(corr_matrix, fignum=f.number)\n",
    "cb = plt.colorbar()\n",
    "cb.ax.tick_params(labelsize=14)\n",
    "plt.title('Correlation Matrix', fontsize=16);"
   ]
  },
  {
   "cell_type": "code",
   "execution_count": null,
   "id": "4912ffee",
   "metadata": {},
   "outputs": [],
   "source": []
  },
  {
   "cell_type": "code",
   "execution_count": 11,
   "id": "53d9dd9b",
   "metadata": {},
   "outputs": [
    {
     "name": "stdout",
     "output_type": "stream",
     "text": [
      "Number of missing features:  459 \n",
      "\n",
      "\n",
      "Number of missing features in column type: 30\n",
      "Number of missing features in column sendTime: 9\n",
      "Number of missing features in column sender: 9\n",
      "Number of missing features in column senderPseudo: 9\n",
      "Number of missing features in column messageID: 9\n",
      "Number of missing features in column class: 9\n",
      "Number of missing features in column posx: 9\n",
      "Number of missing features in column posy: 9\n",
      "Number of missing features in column posz: 30\n",
      "Number of missing features in column posx_n: 9\n",
      "Number of missing features in column posy_n: 9\n",
      "Number of missing features in column posz_n: 30\n",
      "Number of missing features in column spdx: 9\n",
      "Number of missing features in column spdy: 9\n",
      "Number of missing features in column spdz: 30\n",
      "Number of missing features in column spdx_n: 9\n",
      "Number of missing features in column spdy_n: 9\n",
      "Number of missing features in column spdz_n: 30\n",
      "Number of missing features in column aclx: 9\n",
      "Number of missing features in column acly: 9\n",
      "Number of missing features in column aclz: 30\n",
      "Number of missing features in column aclx_n: 9\n",
      "Number of missing features in column acly_n: 9\n",
      "Number of missing features in column aclz_n: 30\n",
      "Number of missing features in column hedx: 9\n",
      "Number of missing features in column hedy: 9\n",
      "Number of missing features in column hedz: 30\n",
      "Number of missing features in column hedx_n: 9\n",
      "Number of missing features in column hedy_n: 9\n",
      "Number of missing features in column hedz_n: 30\n"
     ]
    }
   ],
   "source": [
    "verify_nan_features(corr_matrix)"
   ]
  },
  {
   "cell_type": "code",
   "execution_count": 12,
   "id": "74afccf3",
   "metadata": {},
   "outputs": [
    {
     "name": "stdout",
     "output_type": "stream",
     "text": [
      "['type', 'posz', 'posz_n', 'spdz', 'spdz_n', 'aclz', 'aclz_n', 'hedz', 'hedz_n']\n"
     ]
    }
   ],
   "source": [
    "print(remove_nan_features_corr(df,corr_matrix))"
   ]
  },
  {
   "cell_type": "code",
   "execution_count": 13,
   "id": "1a732421",
   "metadata": {},
   "outputs": [
    {
     "data": {
      "image/png": "[encoded data removed]",
      "text/plain": [
       "<Figure size 1900x1500 with 2 Axes>"
      ]
     },
     "metadata": {},
     "output_type": "display_data"
    }
   ],
   "source": [
    "f = plt.figure(figsize=(19, 15))\n",
    "plt.matshow(corr_matrix, fignum=f.number)\n",
    "cb = plt.colorbar()\n",
    "cb.ax.tick_params(labelsize=14)\n",
    "plt.title('Correlation Matrix', fontsize=16);"
   ]
  },
  {
   "cell_type": "code",
   "execution_count": 14,
   "id": "b76bb55b",
   "metadata": {},
   "outputs": [
    {
     "name": "stdout",
     "output_type": "stream",
     "text": [
      "0           0\n",
      "1           0\n",
      "2           0\n",
      "3           0\n",
      "4           0\n",
      "           ..\n",
      "3194803    19\n",
      "3194804    19\n",
      "3194805    19\n",
      "3194806    19\n",
      "3194807    19\n",
      "Name: class, Length: 3194808, dtype: int64\n"
     ]
    }
   ],
   "source": [
    "print(df['class'])"
   ]
  },
  {
   "cell_type": "code",
   "execution_count": 15,
   "id": "6f330bf6",
   "metadata": {},
   "outputs": [
    {
     "name": "stderr",
     "output_type": "stream",
     "text": [
      "2023-12-11 10:20:11.213705: E tensorflow/compiler/xla/stream_executor/cuda/cuda_driver.cc:268] failed call to cuInit: CUDA_ERROR_NO_DEVICE: no CUDA-capable device is detected\n"
     ]
    }
   ],
   "source": [
    "model = tf.keras.models.Sequential([\n",
    "            tf.keras.layers.Dense(len(df.columns)-1, activation='relu', kernel_initializer='uniform'),\n",
    "            tf.keras.layers.BatchNormalization(),\n",
    "            tf.keras.layers.Dense(128, activation='relu', kernel_initializer='uniform'),    \n",
    "            tf.keras.layers.BatchNormalization(),\n",
    "            tf.keras.layers.Dense(256, activation='relu', kernel_initializer='uniform'),    \n",
    "            tf.keras.layers.BatchNormalization(),\n",
    "            tf.keras.layers.Dense(512, activation='relu', kernel_initializer='uniform'),    \n",
    "            tf.keras.layers.BatchNormalization(),\n",
    "            tf.keras.layers.Dense(256, activation='relu', kernel_initializer='uniform'),    \n",
    "            tf.keras.layers.BatchNormalization(),\n",
    "            tf.keras.layers.Dense(128, activation='relu', kernel_initializer='uniform'),    \n",
    "            tf.keras.layers.Dense(20, activation='softmax')])\n",
    "        \n",
    "opt = tf.keras.optimizers.Adam(learning_rate=0.001)\n",
    "model.compile(optimizer=opt,loss='sparse_categorical_crossentropy', metrics=['accuracy']) "
   ]
  },
  {
   "cell_type": "code",
   "execution_count": 16,
   "id": "c37a4410",
   "metadata": {},
   "outputs": [],
   "source": [
    "col = 'class'\n",
    "X = df.loc[:, df.columns != col]\n",
    "Y = df.loc[:, df.columns == col]"
   ]
  },
  {
   "cell_type": "code",
   "execution_count": 17,
   "id": "eba3b888",
   "metadata": {},
   "outputs": [],
   "source": [
    "x_train, x_test, y_train, y_test = train_test_split(X, Y, test_size=0.3, random_state=42)"
   ]
  },
  {
   "cell_type": "code",
   "execution_count": 18,
   "id": "fcd14cde",
   "metadata": {},
   "outputs": [
    {
     "name": "stdout",
     "output_type": "stream",
     "text": [
      "Epoch 1/100\n",
      " 457/2183 [=====>........................] - ETA: 49s - loss: 1.4946 - accuracy: 0.6518"
     ]
    },
    {
     "ename": "KeyboardInterrupt",
     "evalue": "",
     "output_type": "error",
     "traceback": [
      "\u001b[0;31m---------------------------------------------------------------------------\u001b[0m",
      "\u001b[0;31mKeyboardInterrupt\u001b[0m                         Traceback (most recent call last)",
      "Cell \u001b[0;32mIn [18], line 3\u001b[0m\n\u001b[1;32m      1\u001b[0m bs \u001b[38;5;241m=\u001b[39m \u001b[38;5;241m1024\u001b[39m\n\u001b[0;32m----> 3\u001b[0m \u001b[43mmodel\u001b[49m\u001b[38;5;241;43m.\u001b[39;49m\u001b[43mfit\u001b[49m\u001b[43m(\u001b[49m\u001b[43mx_train\u001b[49m\u001b[43m,\u001b[49m\u001b[43m \u001b[49m\u001b[43my_train\u001b[49m\u001b[43m,\u001b[49m\u001b[43m \u001b[49m\u001b[43mepochs\u001b[49m\u001b[38;5;241;43m=\u001b[39;49m\u001b[38;5;241;43m100\u001b[39;49m\u001b[43m,\u001b[49m\u001b[43mbatch_size\u001b[49m\u001b[38;5;241;43m=\u001b[39;49m\u001b[43mbs\u001b[49m\u001b[43m,\u001b[49m\u001b[43msteps_per_epoch\u001b[49m\u001b[38;5;241;43m=\u001b[39;49m\u001b[38;5;28;43mint\u001b[39;49m\u001b[43m(\u001b[49m\u001b[38;5;28;43mlen\u001b[39;49m\u001b[43m(\u001b[49m\u001b[43mx_train\u001b[49m\u001b[43m)\u001b[49m\u001b[38;5;241;43m/\u001b[39;49m\u001b[38;5;241;43m/\u001b[39;49m\u001b[43mbs\u001b[49m\u001b[43m)\u001b[49m\u001b[43m)\u001b[49m\n",
      "File \u001b[0;32m/usr/local/lib/python3.10/dist-packages/keras/src/utils/traceback_utils.py:65\u001b[0m, in \u001b[0;36mfilter_traceback.<locals>.error_handler\u001b[0;34m(*args, **kwargs)\u001b[0m\n\u001b[1;32m     63\u001b[0m filtered_tb \u001b[38;5;241m=\u001b[39m \u001b[38;5;28;01mNone\u001b[39;00m\n\u001b[1;32m     64\u001b[0m \u001b[38;5;28;01mtry\u001b[39;00m:\n\u001b[0;32m---> 65\u001b[0m     \u001b[38;5;28;01mreturn\u001b[39;00m \u001b[43mfn\u001b[49m\u001b[43m(\u001b[49m\u001b[38;5;241;43m*\u001b[39;49m\u001b[43margs\u001b[49m\u001b[43m,\u001b[49m\u001b[43m \u001b[49m\u001b[38;5;241;43m*\u001b[39;49m\u001b[38;5;241;43m*\u001b[39;49m\u001b[43mkwargs\u001b[49m\u001b[43m)\u001b[49m\n\u001b[1;32m     66\u001b[0m \u001b[38;5;28;01mexcept\u001b[39;00m \u001b[38;5;167;01mException\u001b[39;00m \u001b[38;5;28;01mas\u001b[39;00m e:\n\u001b[1;32m     67\u001b[0m     filtered_tb \u001b[38;5;241m=\u001b[39m _process_traceback_frames(e\u001b[38;5;241m.\u001b[39m__traceback__)\n",
      "File \u001b[0;32m/usr/local/lib/python3.10/dist-packages/keras/src/engine/training.py:1742\u001b[0m, in \u001b[0;36mModel.fit\u001b[0;34m(self, x, y, batch_size, epochs, verbose, callbacks, validation_split, validation_data, shuffle, class_weight, sample_weight, initial_epoch, steps_per_epoch, validation_steps, validation_batch_size, validation_freq, max_queue_size, workers, use_multiprocessing)\u001b[0m\n\u001b[1;32m   1734\u001b[0m \u001b[38;5;28;01mwith\u001b[39;00m tf\u001b[38;5;241m.\u001b[39mprofiler\u001b[38;5;241m.\u001b[39mexperimental\u001b[38;5;241m.\u001b[39mTrace(\n\u001b[1;32m   1735\u001b[0m     \u001b[38;5;124m\"\u001b[39m\u001b[38;5;124mtrain\u001b[39m\u001b[38;5;124m\"\u001b[39m,\n\u001b[1;32m   1736\u001b[0m     epoch_num\u001b[38;5;241m=\u001b[39mepoch,\n\u001b[0;32m   (...)\u001b[0m\n\u001b[1;32m   1739\u001b[0m     _r\u001b[38;5;241m=\u001b[39m\u001b[38;5;241m1\u001b[39m,\n\u001b[1;32m   1740\u001b[0m ):\n\u001b[1;32m   1741\u001b[0m     callbacks\u001b[38;5;241m.\u001b[39mon_train_batch_begin(step)\n\u001b[0;32m-> 1742\u001b[0m     tmp_logs \u001b[38;5;241m=\u001b[39m \u001b[38;5;28;43mself\u001b[39;49m\u001b[38;5;241;43m.\u001b[39;49m\u001b[43mtrain_function\u001b[49m\u001b[43m(\u001b[49m\u001b[43miterator\u001b[49m\u001b[43m)\u001b[49m\n\u001b[1;32m   1743\u001b[0m     \u001b[38;5;28;01mif\u001b[39;00m data_handler\u001b[38;5;241m.\u001b[39mshould_sync:\n\u001b[1;32m   1744\u001b[0m         context\u001b[38;5;241m.\u001b[39masync_wait()\n",
      "File \u001b[0;32m/usr/local/lib/python3.10/dist-packages/tensorflow/python/util/traceback_utils.py:150\u001b[0m, in \u001b[0;36mfilter_traceback.<locals>.error_handler\u001b[0;34m(*args, **kwargs)\u001b[0m\n\u001b[1;32m    148\u001b[0m filtered_tb \u001b[38;5;241m=\u001b[39m \u001b[38;5;28;01mNone\u001b[39;00m\n\u001b[1;32m    149\u001b[0m \u001b[38;5;28;01mtry\u001b[39;00m:\n\u001b[0;32m--> 150\u001b[0m   \u001b[38;5;28;01mreturn\u001b[39;00m \u001b[43mfn\u001b[49m\u001b[43m(\u001b[49m\u001b[38;5;241;43m*\u001b[39;49m\u001b[43margs\u001b[49m\u001b[43m,\u001b[49m\u001b[43m \u001b[49m\u001b[38;5;241;43m*\u001b[39;49m\u001b[38;5;241;43m*\u001b[39;49m\u001b[43mkwargs\u001b[49m\u001b[43m)\u001b[49m\n\u001b[1;32m    151\u001b[0m \u001b[38;5;28;01mexcept\u001b[39;00m \u001b[38;5;167;01mException\u001b[39;00m \u001b[38;5;28;01mas\u001b[39;00m e:\n\u001b[1;32m    152\u001b[0m   filtered_tb \u001b[38;5;241m=\u001b[39m _process_traceback_frames(e\u001b[38;5;241m.\u001b[39m__traceback__)\n",
      "File \u001b[0;32m/usr/local/lib/python3.10/dist-packages/tensorflow/python/eager/polymorphic_function/polymorphic_function.py:825\u001b[0m, in \u001b[0;36mFunction.__call__\u001b[0;34m(self, *args, **kwds)\u001b[0m\n\u001b[1;32m    822\u001b[0m compiler \u001b[38;5;241m=\u001b[39m \u001b[38;5;124m\"\u001b[39m\u001b[38;5;124mxla\u001b[39m\u001b[38;5;124m\"\u001b[39m \u001b[38;5;28;01mif\u001b[39;00m \u001b[38;5;28mself\u001b[39m\u001b[38;5;241m.\u001b[39m_jit_compile \u001b[38;5;28;01melse\u001b[39;00m \u001b[38;5;124m\"\u001b[39m\u001b[38;5;124mnonXla\u001b[39m\u001b[38;5;124m\"\u001b[39m\n\u001b[1;32m    824\u001b[0m \u001b[38;5;28;01mwith\u001b[39;00m OptionalXlaContext(\u001b[38;5;28mself\u001b[39m\u001b[38;5;241m.\u001b[39m_jit_compile):\n\u001b[0;32m--> 825\u001b[0m   result \u001b[38;5;241m=\u001b[39m \u001b[38;5;28;43mself\u001b[39;49m\u001b[38;5;241;43m.\u001b[39;49m\u001b[43m_call\u001b[49m\u001b[43m(\u001b[49m\u001b[38;5;241;43m*\u001b[39;49m\u001b[43margs\u001b[49m\u001b[43m,\u001b[49m\u001b[43m \u001b[49m\u001b[38;5;241;43m*\u001b[39;49m\u001b[38;5;241;43m*\u001b[39;49m\u001b[43mkwds\u001b[49m\u001b[43m)\u001b[49m\n\u001b[1;32m    827\u001b[0m new_tracing_count \u001b[38;5;241m=\u001b[39m \u001b[38;5;28mself\u001b[39m\u001b[38;5;241m.\u001b[39mexperimental_get_tracing_count()\n\u001b[1;32m    828\u001b[0m without_tracing \u001b[38;5;241m=\u001b[39m (tracing_count \u001b[38;5;241m==\u001b[39m new_tracing_count)\n",
      "File \u001b[0;32m/usr/local/lib/python3.10/dist-packages/tensorflow/python/eager/polymorphic_function/polymorphic_function.py:857\u001b[0m, in \u001b[0;36mFunction._call\u001b[0;34m(self, *args, **kwds)\u001b[0m\n\u001b[1;32m    854\u001b[0m   \u001b[38;5;28mself\u001b[39m\u001b[38;5;241m.\u001b[39m_lock\u001b[38;5;241m.\u001b[39mrelease()\n\u001b[1;32m    855\u001b[0m   \u001b[38;5;66;03m# In this case we have created variables on the first call, so we run the\u001b[39;00m\n\u001b[1;32m    856\u001b[0m   \u001b[38;5;66;03m# defunned version which is guaranteed to never create variables.\u001b[39;00m\n\u001b[0;32m--> 857\u001b[0m   \u001b[38;5;28;01mreturn\u001b[39;00m \u001b[38;5;28;43mself\u001b[39;49m\u001b[38;5;241;43m.\u001b[39;49m\u001b[43m_no_variable_creation_fn\u001b[49m\u001b[43m(\u001b[49m\u001b[38;5;241;43m*\u001b[39;49m\u001b[43margs\u001b[49m\u001b[43m,\u001b[49m\u001b[43m \u001b[49m\u001b[38;5;241;43m*\u001b[39;49m\u001b[38;5;241;43m*\u001b[39;49m\u001b[43mkwds\u001b[49m\u001b[43m)\u001b[49m  \u001b[38;5;66;03m# pylint: disable=not-callable\u001b[39;00m\n\u001b[1;32m    858\u001b[0m \u001b[38;5;28;01melif\u001b[39;00m \u001b[38;5;28mself\u001b[39m\u001b[38;5;241m.\u001b[39m_variable_creation_fn \u001b[38;5;129;01mis\u001b[39;00m \u001b[38;5;129;01mnot\u001b[39;00m \u001b[38;5;28;01mNone\u001b[39;00m:\n\u001b[1;32m    859\u001b[0m   \u001b[38;5;66;03m# Release the lock early so that multiple threads can perform the call\u001b[39;00m\n\u001b[1;32m    860\u001b[0m   \u001b[38;5;66;03m# in parallel.\u001b[39;00m\n\u001b[1;32m    861\u001b[0m   \u001b[38;5;28mself\u001b[39m\u001b[38;5;241m.\u001b[39m_lock\u001b[38;5;241m.\u001b[39mrelease()\n",
      "File \u001b[0;32m/usr/local/lib/python3.10/dist-packages/tensorflow/python/eager/polymorphic_function/tracing_compiler.py:148\u001b[0m, in \u001b[0;36mTracingCompiler.__call__\u001b[0;34m(self, *args, **kwargs)\u001b[0m\n\u001b[1;32m    145\u001b[0m \u001b[38;5;28;01mwith\u001b[39;00m \u001b[38;5;28mself\u001b[39m\u001b[38;5;241m.\u001b[39m_lock:\n\u001b[1;32m    146\u001b[0m   (concrete_function,\n\u001b[1;32m    147\u001b[0m    filtered_flat_args) \u001b[38;5;241m=\u001b[39m \u001b[38;5;28mself\u001b[39m\u001b[38;5;241m.\u001b[39m_maybe_define_function(args, kwargs)\n\u001b[0;32m--> 148\u001b[0m \u001b[38;5;28;01mreturn\u001b[39;00m \u001b[43mconcrete_function\u001b[49m\u001b[38;5;241;43m.\u001b[39;49m\u001b[43m_call_flat\u001b[49m\u001b[43m(\u001b[49m\n\u001b[1;32m    149\u001b[0m \u001b[43m    \u001b[49m\u001b[43mfiltered_flat_args\u001b[49m\u001b[43m,\u001b[49m\u001b[43m \u001b[49m\u001b[43mcaptured_inputs\u001b[49m\u001b[38;5;241;43m=\u001b[39;49m\u001b[43mconcrete_function\u001b[49m\u001b[38;5;241;43m.\u001b[39;49m\u001b[43mcaptured_inputs\u001b[49m\u001b[43m)\u001b[49m\n",
      "File \u001b[0;32m/usr/local/lib/python3.10/dist-packages/tensorflow/python/eager/polymorphic_function/monomorphic_function.py:1349\u001b[0m, in \u001b[0;36mConcreteFunction._call_flat\u001b[0;34m(self, args, captured_inputs)\u001b[0m\n\u001b[1;32m   1345\u001b[0m possible_gradient_type \u001b[38;5;241m=\u001b[39m gradients_util\u001b[38;5;241m.\u001b[39mPossibleTapeGradientTypes(args)\n\u001b[1;32m   1346\u001b[0m \u001b[38;5;28;01mif\u001b[39;00m (possible_gradient_type \u001b[38;5;241m==\u001b[39m gradients_util\u001b[38;5;241m.\u001b[39mPOSSIBLE_GRADIENT_TYPES_NONE\n\u001b[1;32m   1347\u001b[0m     \u001b[38;5;129;01mand\u001b[39;00m executing_eagerly):\n\u001b[1;32m   1348\u001b[0m   \u001b[38;5;66;03m# No tape is watching; skip to running the function.\u001b[39;00m\n\u001b[0;32m-> 1349\u001b[0m   \u001b[38;5;28;01mreturn\u001b[39;00m \u001b[38;5;28mself\u001b[39m\u001b[38;5;241m.\u001b[39m_build_call_outputs(\u001b[38;5;28;43mself\u001b[39;49m\u001b[38;5;241;43m.\u001b[39;49m\u001b[43m_inference_function\u001b[49m\u001b[43m(\u001b[49m\u001b[38;5;241;43m*\u001b[39;49m\u001b[43margs\u001b[49m\u001b[43m)\u001b[49m)\n\u001b[1;32m   1350\u001b[0m forward_backward \u001b[38;5;241m=\u001b[39m \u001b[38;5;28mself\u001b[39m\u001b[38;5;241m.\u001b[39m_select_forward_and_backward_functions(\n\u001b[1;32m   1351\u001b[0m     args,\n\u001b[1;32m   1352\u001b[0m     possible_gradient_type,\n\u001b[1;32m   1353\u001b[0m     executing_eagerly)\n\u001b[1;32m   1354\u001b[0m forward_function, args_with_tangents \u001b[38;5;241m=\u001b[39m forward_backward\u001b[38;5;241m.\u001b[39mforward()\n",
      "File \u001b[0;32m/usr/local/lib/python3.10/dist-packages/tensorflow/python/eager/polymorphic_function/atomic_function.py:196\u001b[0m, in \u001b[0;36mAtomicFunction.__call__\u001b[0;34m(self, *args)\u001b[0m\n\u001b[1;32m    194\u001b[0m \u001b[38;5;28;01mwith\u001b[39;00m record\u001b[38;5;241m.\u001b[39mstop_recording():\n\u001b[1;32m    195\u001b[0m   \u001b[38;5;28;01mif\u001b[39;00m \u001b[38;5;28mself\u001b[39m\u001b[38;5;241m.\u001b[39m_bound_context\u001b[38;5;241m.\u001b[39mexecuting_eagerly():\n\u001b[0;32m--> 196\u001b[0m     outputs \u001b[38;5;241m=\u001b[39m \u001b[38;5;28;43mself\u001b[39;49m\u001b[38;5;241;43m.\u001b[39;49m\u001b[43m_bound_context\u001b[49m\u001b[38;5;241;43m.\u001b[39;49m\u001b[43mcall_function\u001b[49m\u001b[43m(\u001b[49m\n\u001b[1;32m    197\u001b[0m \u001b[43m        \u001b[49m\u001b[38;5;28;43mself\u001b[39;49m\u001b[38;5;241;43m.\u001b[39;49m\u001b[43mname\u001b[49m\u001b[43m,\u001b[49m\n\u001b[1;32m    198\u001b[0m \u001b[43m        \u001b[49m\u001b[38;5;28;43mlist\u001b[39;49m\u001b[43m(\u001b[49m\u001b[43margs\u001b[49m\u001b[43m)\u001b[49m\u001b[43m,\u001b[49m\n\u001b[1;32m    199\u001b[0m \u001b[43m        \u001b[49m\u001b[38;5;28;43mlen\u001b[39;49m\u001b[43m(\u001b[49m\u001b[38;5;28;43mself\u001b[39;49m\u001b[38;5;241;43m.\u001b[39;49m\u001b[43mfunction_type\u001b[49m\u001b[38;5;241;43m.\u001b[39;49m\u001b[43mflat_outputs\u001b[49m\u001b[43m)\u001b[49m\u001b[43m,\u001b[49m\n\u001b[1;32m    200\u001b[0m \u001b[43m    \u001b[49m\u001b[43m)\u001b[49m\n\u001b[1;32m    201\u001b[0m   \u001b[38;5;28;01melse\u001b[39;00m:\n\u001b[1;32m    202\u001b[0m     outputs \u001b[38;5;241m=\u001b[39m make_call_op_in_graph(\u001b[38;5;28mself\u001b[39m, \u001b[38;5;28mlist\u001b[39m(args))\n",
      "File \u001b[0;32m/usr/local/lib/python3.10/dist-packages/tensorflow/python/eager/context.py:1457\u001b[0m, in \u001b[0;36mContext.call_function\u001b[0;34m(self, name, tensor_inputs, num_outputs)\u001b[0m\n\u001b[1;32m   1455\u001b[0m cancellation_context \u001b[38;5;241m=\u001b[39m cancellation\u001b[38;5;241m.\u001b[39mcontext()\n\u001b[1;32m   1456\u001b[0m \u001b[38;5;28;01mif\u001b[39;00m cancellation_context \u001b[38;5;129;01mis\u001b[39;00m \u001b[38;5;28;01mNone\u001b[39;00m:\n\u001b[0;32m-> 1457\u001b[0m   outputs \u001b[38;5;241m=\u001b[39m \u001b[43mexecute\u001b[49m\u001b[38;5;241;43m.\u001b[39;49m\u001b[43mexecute\u001b[49m\u001b[43m(\u001b[49m\n\u001b[1;32m   1458\u001b[0m \u001b[43m      \u001b[49m\u001b[43mname\u001b[49m\u001b[38;5;241;43m.\u001b[39;49m\u001b[43mdecode\u001b[49m\u001b[43m(\u001b[49m\u001b[38;5;124;43m\"\u001b[39;49m\u001b[38;5;124;43mutf-8\u001b[39;49m\u001b[38;5;124;43m\"\u001b[39;49m\u001b[43m)\u001b[49m\u001b[43m,\u001b[49m\n\u001b[1;32m   1459\u001b[0m \u001b[43m      \u001b[49m\u001b[43mnum_outputs\u001b[49m\u001b[38;5;241;43m=\u001b[39;49m\u001b[43mnum_outputs\u001b[49m\u001b[43m,\u001b[49m\n\u001b[1;32m   1460\u001b[0m \u001b[43m      \u001b[49m\u001b[43minputs\u001b[49m\u001b[38;5;241;43m=\u001b[39;49m\u001b[43mtensor_inputs\u001b[49m\u001b[43m,\u001b[49m\n\u001b[1;32m   1461\u001b[0m \u001b[43m      \u001b[49m\u001b[43mattrs\u001b[49m\u001b[38;5;241;43m=\u001b[39;49m\u001b[43mattrs\u001b[49m\u001b[43m,\u001b[49m\n\u001b[1;32m   1462\u001b[0m \u001b[43m      \u001b[49m\u001b[43mctx\u001b[49m\u001b[38;5;241;43m=\u001b[39;49m\u001b[38;5;28;43mself\u001b[39;49m\u001b[43m,\u001b[49m\n\u001b[1;32m   1463\u001b[0m \u001b[43m  \u001b[49m\u001b[43m)\u001b[49m\n\u001b[1;32m   1464\u001b[0m \u001b[38;5;28;01melse\u001b[39;00m:\n\u001b[1;32m   1465\u001b[0m   outputs \u001b[38;5;241m=\u001b[39m execute\u001b[38;5;241m.\u001b[39mexecute_with_cancellation(\n\u001b[1;32m   1466\u001b[0m       name\u001b[38;5;241m.\u001b[39mdecode(\u001b[38;5;124m\"\u001b[39m\u001b[38;5;124mutf-8\u001b[39m\u001b[38;5;124m\"\u001b[39m),\n\u001b[1;32m   1467\u001b[0m       num_outputs\u001b[38;5;241m=\u001b[39mnum_outputs,\n\u001b[0;32m   (...)\u001b[0m\n\u001b[1;32m   1471\u001b[0m       cancellation_manager\u001b[38;5;241m=\u001b[39mcancellation_context,\n\u001b[1;32m   1472\u001b[0m   )\n",
      "File \u001b[0;32m/usr/local/lib/python3.10/dist-packages/tensorflow/python/eager/execute.py:53\u001b[0m, in \u001b[0;36mquick_execute\u001b[0;34m(op_name, num_outputs, inputs, attrs, ctx, name)\u001b[0m\n\u001b[1;32m     51\u001b[0m \u001b[38;5;28;01mtry\u001b[39;00m:\n\u001b[1;32m     52\u001b[0m   ctx\u001b[38;5;241m.\u001b[39mensure_initialized()\n\u001b[0;32m---> 53\u001b[0m   tensors \u001b[38;5;241m=\u001b[39m \u001b[43mpywrap_tfe\u001b[49m\u001b[38;5;241;43m.\u001b[39;49m\u001b[43mTFE_Py_Execute\u001b[49m\u001b[43m(\u001b[49m\u001b[43mctx\u001b[49m\u001b[38;5;241;43m.\u001b[39;49m\u001b[43m_handle\u001b[49m\u001b[43m,\u001b[49m\u001b[43m \u001b[49m\u001b[43mdevice_name\u001b[49m\u001b[43m,\u001b[49m\u001b[43m \u001b[49m\u001b[43mop_name\u001b[49m\u001b[43m,\u001b[49m\n\u001b[1;32m     54\u001b[0m \u001b[43m                                      \u001b[49m\u001b[43minputs\u001b[49m\u001b[43m,\u001b[49m\u001b[43m \u001b[49m\u001b[43mattrs\u001b[49m\u001b[43m,\u001b[49m\u001b[43m \u001b[49m\u001b[43mnum_outputs\u001b[49m\u001b[43m)\u001b[49m\n\u001b[1;32m     55\u001b[0m \u001b[38;5;28;01mexcept\u001b[39;00m core\u001b[38;5;241m.\u001b[39m_NotOkStatusException \u001b[38;5;28;01mas\u001b[39;00m e:\n\u001b[1;32m     56\u001b[0m   \u001b[38;5;28;01mif\u001b[39;00m name \u001b[38;5;129;01mis\u001b[39;00m \u001b[38;5;129;01mnot\u001b[39;00m \u001b[38;5;28;01mNone\u001b[39;00m:\n",
      "\u001b[0;31mKeyboardInterrupt\u001b[0m: "
     ]
    }
   ],
   "source": [
    "bs = 1024\n",
    "\n",
    "model.fit(x_train, y_train, epochs=100,batch_size=bs,steps_per_epoch=int(len(x_train)//bs))"
   ]
  },
  {
   "cell_type": "code",
   "execution_count": null,
   "id": "dd008392",
   "metadata": {},
   "outputs": [],
   "source": [
    "#y_hat = model.predict(x_test)\n",
    "results = model.evaluate(x_test, y_test)"
   ]
  },
  {
   "cell_type": "code",
   "execution_count": 19,
   "id": "e4a1ddab",
   "metadata": {},
   "outputs": [],
   "source": [
    "from sklearn.ensemble import RandomForestClassifier\n",
    "from sklearn.metrics import accuracy_score\n",
    "from sklearn.model_selection import train_test_split\n",
    "\n"
   ]
  },
  {
   "cell_type": "code",
   "execution_count": 20,
   "id": "55157460",
   "metadata": {},
   "outputs": [],
   "source": [
    "\n",
    "# Load dataset\n",
    "DATA_PATH = '../datasets/VeReMi_Extension/mixalldata_clean.csv'\n",
    "df = load_dataset_to_dataframe(DATA_PATH)\n",
    "\n",
    "\n",
    "# Pre-process data\n",
    "corr_matrix = df.corr()\n",
    "remove_nan_features_corr(df,corr_matrix)\n",
    "\n",
    "col = 'class'\n",
    "\n",
    "X = df.loc[:,df.columns != col]\n",
    "y = df.loc[:,df.columns == col]\n",
    "\n",
    "# Split dataset\n",
    "X_train, X_test, y_train, y_test = train_test_split(X,y,test_size=0.2,random_state=42)\n"
   ]
  },
  {
   "cell_type": "code",
   "execution_count": null,
   "id": "a9457186",
   "metadata": {},
   "outputs": [
    {
     "name": "stderr",
     "output_type": "stream",
     "text": [
      "/tmp/ipykernel_1187732/1905470555.py:6: DataConversionWarning: A column-vector y was passed when a 1d array was expected. Please change the shape of y to (n_samples,), for example using ravel().\n",
      "  rf = rf.fit(X_train,y_train)\n"
     ]
    }
   ],
   "source": [
    "# Traing model\n",
    "rf = RandomForestClassifier(random_state=42,n_estimators=150,\n",
    "                            max_depth=None,min_samples_split=2,\n",
    "                            min_samples_leaf=1)\n",
    "\n",
    "rf = rf.fit(X_train,y_train)\n",
    "\n",
    "# Test model\n",
    "y_pred = rf.predict(X_test)\n",
    "\n",
    "accuracy = accuracy_score(y_test,y_pred)\n",
    "\n",
    "print('Accuracy on Test: ', accuracy)\n"
   ]
  },
  {
   "cell_type": "code",
   "execution_count": null,
   "id": "39b8eed7",
   "metadata": {},
   "outputs": [],
   "source": []
  }
 ],
 "metadata": {
  "kernelspec": {
   "display_name": "Python 3 (ipykernel)",
   "language": "python",
   "name": "python3"
  },
  "language_info": {
   "codemirror_mode": {
    "name": "ipython",
    "version": 3
   },
   "file_extension": ".py",
   "mimetype": "text/x-python",
   "name": "python",
   "nbconvert_exporter": "python",
   "pygments_lexer": "ipython3",
   "version": "3.10.12"
  }
 },
 "nbformat": 4,
 "nbformat_minor": 5
}
